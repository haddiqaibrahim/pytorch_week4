{
  "cells": [
    {
      "cell_type": "markdown",
      "source": [
        "# Pytorch Classification\n",
        "---\n",
        "\n",
        "> Add blockquote\n",
        "\n"
      ],
      "metadata": {
        "id": "AOgKVT2CEDhB"
      },
      "id": "AOgKVT2CEDhB"
    },
    {
      "cell_type": "code",
      "execution_count": 3,
      "id": "db115da0",
      "metadata": {
        "id": "db115da0"
      },
      "outputs": [],
      "source": [
        "# Import necessary libraries\n",
        "import torch\n",
        "from torch import nn\n",
        "import matplotlib.pyplot as plt\n",
        "from pathlib import Path"
      ]
    },
    {
      "cell_type": "code",
      "source": [
        "# Check PyTorch version\n",
        "torch.__version__"
      ],
      "metadata": {
        "colab": {
          "base_uri": "https://localhost:8080/",
          "height": 36
        },
        "id": "wQa6_4g9EWmB",
        "outputId": "28c6b6e2-2ad2-4b49-b9e0-af60dc10444c"
      },
      "id": "wQa6_4g9EWmB",
      "execution_count": 4,
      "outputs": [
        {
          "output_type": "execute_result",
          "data": {
            "text/plain": [
              "'2.6.0+cu124'"
            ],
            "application/vnd.google.colaboratory.intrinsic+json": {
              "type": "string"
            }
          },
          "metadata": {},
          "execution_count": 4
        }
      ]
    },
    {
      "cell_type": "code",
      "source": [
        "# Device-agnostic setup\n",
        "device = \"cuda\" if torch.cuda.is_available() else \"cpu\""
      ],
      "metadata": {
        "id": "M0TMM_uMEXa3"
      },
      "id": "M0TMM_uMEXa3",
      "execution_count": 5,
      "outputs": []
    },
    {
      "cell_type": "code",
      "source": [
        "# Create data\n",
        "weight = 0.7\n",
        "bias = 0.3\n",
        "X = torch.arange(0, 10, 0.2).unsqueeze(1)\n",
        "y = weight * X + bias"
      ],
      "metadata": {
        "id": "ebkuD3yCEbB6"
      },
      "id": "ebkuD3yCEbB6",
      "execution_count": 6,
      "outputs": []
    },
    {
      "cell_type": "code",
      "source": [
        "# Split into training and test sets\n",
        "train_split = int(0.8 * len(X))\n",
        "X_train, y_train = X[:train_split], y[:train_split]\n",
        "X_test, y_test = X[train_split:], y[train_split:]"
      ],
      "metadata": {
        "id": "gfvpnkzTEgHb"
      },
      "id": "gfvpnkzTEgHb",
      "execution_count": 7,
      "outputs": []
    },
    {
      "cell_type": "code",
      "source": [
        "# Function to plot predictions\n",
        "def plot_predictions(train_data=X_train, train_labels=y_train, test_data=X_test, test_labels=y_test, predictions=None):\n",
        "    plt.figure(figsize=(10, 7))\n",
        "    plt.scatter(train_data, train_labels, c=\"b\", s=4, label=\"Training data\")\n",
        "    plt.scatter(test_data, test_data, c='g', s=4, label=\"Testing data\")\n",
        "    if predictions is not None:\n",
        "        plt.scatter(test_data, predictions, c=\"r\", s=4, label=\"Predictions\")\n",
        "    plt.legend(prop={\"size\": 14})\n",
        "    plt.show()\n",
        "\n",
        "plot_predictions()"
      ],
      "metadata": {
        "colab": {
          "base_uri": "https://localhost:8080/",
          "height": 599
        },
        "id": "xGUx5WdXEhW9",
        "outputId": "18b4e471-2030-4e35-f6fc-cefa4ff565f2"
      },
      "id": "xGUx5WdXEhW9",
      "execution_count": 8,
      "outputs": [
        {
          "output_type": "display_data",
          "data": {
            "text/plain": [
              "<Figure size 1000x700 with 1 Axes>"
            ],
            "image/png": "[encoded data removed]"
          },
          "metadata": {}
        }
      ]
    },
    {
      "cell_type": "code",
      "source": [
        "# Create simple linear regression model\n",
        "class LinearRegressionModel(nn.Module):\n",
        "    def __init__(self):\n",
        "        super().__init__()\n",
        "        self.weights = nn.Parameter(torch.randn(1, requires_grad=True, dtype=torch.float))\n",
        "        self.bias = nn.Parameter(torch.randn(1, requires_grad=True, dtype=torch.float))\n",
        "\n",
        "    def forward(self, x: torch.Tensor) -> torch.Tensor:\n",
        "        return self.weights * x + self.bias\n",
        "\n",
        "model_0 = LinearRegressionModel()"
      ],
      "metadata": {
        "id": "EXzD_6IhEknb"
      },
      "id": "EXzD_6IhEknb",
      "execution_count": 9,
      "outputs": []
    },
    {
      "cell_type": "code",
      "source": [
        "# Loss function and optimizer\n",
        "loss_fn = nn.L1Loss()\n",
        "optimizer = torch.optim.SGD(params=model_0.parameters(), lr=0.01)\n"
      ],
      "metadata": {
        "id": "A_zYS39cFBT-"
      },
      "id": "A_zYS39cFBT-",
      "execution_count": 10,
      "outputs": []
    },
    {
      "cell_type": "code",
      "source": [
        "# Create simple linear regression model\n",
        "class LinearRegressionModel(nn.Module):\n",
        "    def __init__(self):\n",
        "        super().__init__()\n",
        "        self.weights = nn.Parameter(torch.randn(1, requires_grad=True, dtype=torch.float))\n",
        "        self.bias = nn.Parameter(torch.randn(1, requires_grad=True, dtype=torch.float))\n",
        "\n",
        "    def forward(self, x: torch.Tensor) -> torch.Tensor:\n",
        "        return self.weights * x + self.bias\n",
        "\n",
        "model_0 = LinearRegressionModel()"
      ],
      "metadata": {
        "id": "cAV1tMvyFErD"
      },
      "id": "cAV1tMvyFErD",
      "execution_count": 11,
      "outputs": []
    },
    {
      "cell_type": "code",
      "source": [
        "# Training loop\n",
        "epochs = 200\n",
        "for epoch in range(epochs):\n",
        "    model_0.train()\n",
        "    y_pred = model_0(X_train)\n",
        "    loss = loss_fn(y_pred, y_train)\n",
        "    optimizer.zero_grad()\n",
        "    loss.backward()\n",
        "    optimizer.step()\n",
        "\n",
        "    model_0.eval()\n",
        "    with torch.inference_mode():\n",
        "        test_pred = model_0(X_test)\n",
        "        test_loss = loss_fn(test_pred, y_test)\n",
        "\n",
        "    if epoch % 10 == 0:\n",
        "        print(f\"Epoch: {epoch} | Loss: {loss:.4f} | Test loss: {test_loss:.4f}\")"
      ],
      "metadata": {
        "colab": {
          "base_uri": "https://localhost:8080/"
        },
        "id": "vzcrzrwwFIad",
        "outputId": "2102b802-3105-4d99-ebe9-777b52a16d17"
      },
      "id": "vzcrzrwwFIad",
      "execution_count": 12,
      "outputs": [
        {
          "output_type": "stream",
          "name": "stdout",
          "text": [
            "Epoch: 0 | Loss: 5.2012 | Test loss: 12.7251\n",
            "Epoch: 10 | Loss: 5.2012 | Test loss: 12.7251\n",
            "Epoch: 20 | Loss: 5.2012 | Test loss: 12.7251\n",
            "Epoch: 30 | Loss: 5.2012 | Test loss: 12.7251\n",
            "Epoch: 40 | Loss: 5.2012 | Test loss: 12.7251\n",
            "Epoch: 50 | Loss: 5.2012 | Test loss: 12.7251\n",
            "Epoch: 60 | Loss: 5.2012 | Test loss: 12.7251\n",
            "Epoch: 70 | Loss: 5.2012 | Test loss: 12.7251\n",
            "Epoch: 80 | Loss: 5.2012 | Test loss: 12.7251\n",
            "Epoch: 90 | Loss: 5.2012 | Test loss: 12.7251\n",
            "Epoch: 100 | Loss: 5.2012 | Test loss: 12.7251\n",
            "Epoch: 110 | Loss: 5.2012 | Test loss: 12.7251\n",
            "Epoch: 120 | Loss: 5.2012 | Test loss: 12.7251\n",
            "Epoch: 130 | Loss: 5.2012 | Test loss: 12.7251\n",
            "Epoch: 140 | Loss: 5.2012 | Test loss: 12.7251\n",
            "Epoch: 150 | Loss: 5.2012 | Test loss: 12.7251\n",
            "Epoch: 160 | Loss: 5.2012 | Test loss: 12.7251\n",
            "Epoch: 170 | Loss: 5.2012 | Test loss: 12.7251\n",
            "Epoch: 180 | Loss: 5.2012 | Test loss: 12.7251\n",
            "Epoch: 190 | Loss: 5.2012 | Test loss: 12.7251\n"
          ]
        }
      ]
    },
    {
      "cell_type": "code",
      "source": [
        "# Evaluation mode\n",
        "model_0.eval()\n",
        "with torch.inference_mode():\n",
        "    y_preds = model_0(X_test)\n",
        "\n",
        "plot_predictions(predictions=y_preds)"
      ],
      "metadata": {
        "colab": {
          "base_uri": "https://localhost:8080/",
          "height": 599
        },
        "id": "MA3pda5gFMBG",
        "outputId": "1b1801dd-ee1f-4d0d-ba7b-a2a4c8dde4cf"
      },
      "id": "MA3pda5gFMBG",
      "execution_count": 13,
      "outputs": [
        {
          "output_type": "display_data",
          "data": {
            "text/plain": [
              "<Figure size 1000x700 with 1 Axes>"
            ],
            "image/png": "[encoded data removed]"
          },
          "metadata": {}
        }
      ]
    },
    {
      "cell_type": "code",
      "source": [
        "# Save model\n",
        "MODEL_PATH = Path(\"models\")\n",
        "MODEL_PATH.mkdir(parents=True, exist_ok=True)\n",
        "MODEL_NAME = \"01_workflow.pth\"\n",
        "MODEL_SAVE_PATH = MODEL_PATH / MODEL_NAME\n",
        "print(f\"Saving model to: {MODEL_SAVE_PATH}\")\n",
        "torch.save(obj=model_0.state_dict(), f=MODEL_SAVE_PATH)"
      ],
      "metadata": {
        "colab": {
          "base_uri": "https://localhost:8080/"
        },
        "id": "rNpv3TbWFM06",
        "outputId": "8567ba6e-0be3-4b4e-957f-11d149d7e6a6"
      },
      "id": "rNpv3TbWFM06",
      "execution_count": 14,
      "outputs": [
        {
          "output_type": "stream",
          "name": "stdout",
          "text": [
            "Saving model to: models/01_workflow.pth\n"
          ]
        }
      ]
    },
    {
      "cell_type": "code",
      "source": [
        "# Load model\n",
        "loaded_model_0 = LinearRegressionModel()\n",
        "loaded_model_0.load_state_dict(torch.load(f=MODEL_SAVE_PATH))\n",
        "loaded_model_0.eval()\n",
        "\n",
        "with torch.inference_mode():\n",
        "    loaded_model_preds = loaded_model_0(X_test)\n",
        "\n",
        "print(y_preds == loaded_model_preds)"
      ],
      "metadata": {
        "colab": {
          "base_uri": "https://localhost:8080/"
        },
        "id": "iHEGnb2BFSR9",
        "outputId": "3ce6bc44-bddf-424c-e31c-6577921ff513"
      },
      "id": "iHEGnb2BFSR9",
      "execution_count": 15,
      "outputs": [
        {
          "output_type": "stream",
          "name": "stdout",
          "text": [
            "tensor([[True],\n",
            "        [True],\n",
            "        [True],\n",
            "        [True],\n",
            "        [True],\n",
            "        [True],\n",
            "        [True],\n",
            "        [True],\n",
            "        [True],\n",
            "        [True]])\n"
          ]
        }
      ]
    },
    {
      "cell_type": "code",
      "source": [
        "# Build improved linear model using nn.Linear\n",
        "class LinearRegressionModelV2(nn.Module):\n",
        "    def __init__(self):\n",
        "        super().__init__()\n",
        "        self.linear_layer = nn.Linear(in_features=1, out_features=1)\n",
        "\n",
        "    def forward(self, x: torch.Tensor) -> torch.Tensor:\n",
        "        return self.linear_layer(x)\n",
        "\n",
        "model_1 = LinearRegressionModelV2().to(device)"
      ],
      "metadata": {
        "id": "yZMepO31FTCq"
      },
      "id": "yZMepO31FTCq",
      "execution_count": 16,
      "outputs": []
    },
    {
      "cell_type": "code",
      "source": [
        "# Loss and optimizer for improved model\n",
        "loss_fn = nn.L1Loss()\n",
        "optimizer = torch.optim.SGD(params=model_1.parameters(), lr=0.01)"
      ],
      "metadata": {
        "id": "0DX5GIP1FWT7"
      },
      "id": "0DX5GIP1FWT7",
      "execution_count": 17,
      "outputs": []
    },
    {
      "cell_type": "code",
      "source": [
        "# Move data to device\n",
        "X_train, y_train = X_train.to(device), y_train.to(device)\n",
        "X_test, y_test = X_test.to(device), y_test.to(device)"
      ],
      "metadata": {
        "id": "WS0GOxzmFm02"
      },
      "id": "WS0GOxzmFm02",
      "execution_count": 18,
      "outputs": []
    },
    {
      "cell_type": "code",
      "source": [
        "# Training loop for improved model\n",
        "for epoch in range(epochs):\n",
        "    model_1.train()\n",
        "    y_pred = model_1(X_train)\n",
        "    loss = loss_fn(y_pred, y_train)\n",
        "    optimizer.zero_grad()\n",
        "    loss.backward()\n",
        "    optimizer.step()\n",
        "\n",
        "    model_1.eval()\n",
        "    with torch.inference_mode():\n",
        "        test_pred = model_1(X_test)\n",
        "        test_loss = loss_fn(test_pred, y_test)\n",
        "\n",
        "    if epoch % 10 == 0:\n",
        "        print(f\"Epoch: {epoch} | Loss: {loss:.4f} | Test loss: {test_loss:.4f}\")"
      ],
      "metadata": {
        "colab": {
          "base_uri": "https://localhost:8080/"
        },
        "id": "kuPZZE9nFvZl",
        "outputId": "17a17181-736c-4d48-8e5f-b5c0da5d4a2a"
      },
      "id": "kuPZZE9nFvZl",
      "execution_count": 19,
      "outputs": [
        {
          "output_type": "stream",
          "name": "stdout",
          "text": [
            "Epoch: 0 | Loss: 1.4174 | Test loss: 1.7660\n",
            "Epoch: 10 | Loss: 0.3300 | Test loss: 0.4797\n",
            "Epoch: 20 | Loss: 0.3128 | Test loss: 0.4383\n",
            "Epoch: 30 | Loss: 0.2957 | Test loss: 0.4223\n",
            "Epoch: 40 | Loss: 0.2784 | Test loss: 0.4064\n",
            "Epoch: 50 | Loss: 0.2612 | Test loss: 0.3650\n",
            "Epoch: 60 | Loss: 0.2440 | Test loss: 0.3490\n",
            "Epoch: 70 | Loss: 0.2268 | Test loss: 0.3331\n",
            "Epoch: 80 | Loss: 0.2095 | Test loss: 0.2917\n",
            "Epoch: 90 | Loss: 0.1924 | Test loss: 0.2757\n",
            "Epoch: 100 | Loss: 0.1752 | Test loss: 0.2598\n",
            "Epoch: 110 | Loss: 0.1579 | Test loss: 0.2184\n",
            "Epoch: 120 | Loss: 0.1408 | Test loss: 0.2033\n",
            "Epoch: 130 | Loss: 0.1236 | Test loss: 0.1874\n",
            "Epoch: 140 | Loss: 0.1063 | Test loss: 0.1478\n",
            "Epoch: 150 | Loss: 0.0893 | Test loss: 0.1336\n",
            "Epoch: 160 | Loss: 0.0730 | Test loss: 0.1510\n",
            "Epoch: 170 | Loss: 0.0697 | Test loss: 0.0074\n",
            "Epoch: 180 | Loss: 0.0877 | Test loss: 0.0311\n",
            "Epoch: 190 | Loss: 0.1267 | Test loss: 0.0185\n"
          ]
        }
      ]
    },
    {
      "cell_type": "code",
      "source": [
        "# Save improved model\n",
        "torch.save(obj=model_1.state_dict(), f=MODEL_SAVE_PATH)"
      ],
      "metadata": {
        "id": "wd_YkieGFyUZ"
      },
      "id": "wd_YkieGFyUZ",
      "execution_count": 20,
      "outputs": []
    },
    {
      "cell_type": "code",
      "source": [
        "# Load improved model\n",
        "loaded_model_1 = LinearRegressionModelV2()\n",
        "loaded_model_1.load_state_dict(torch.load(f=MODEL_SAVE_PATH))\n",
        "loaded_model_1.to(device)\n",
        "loaded_model_1.eval()"
      ],
      "metadata": {
        "colab": {
          "base_uri": "https://localhost:8080/"
        },
        "id": "ABOz8KwOF1Bv",
        "outputId": "73c173d0-7390-4077-c6b9-72606d56d0bc"
      },
      "id": "ABOz8KwOF1Bv",
      "execution_count": 21,
      "outputs": [
        {
          "output_type": "execute_result",
          "data": {
            "text/plain": [
              "LinearRegressionModelV2(\n",
              "  (linear_layer): Linear(in_features=1, out_features=1, bias=True)\n",
              ")"
            ]
          },
          "metadata": {},
          "execution_count": 21
        }
      ]
    },
    {
      "cell_type": "code",
      "source": [
        "# Predictions from loaded model\n",
        "with torch.inference_mode():\n",
        "    y_preds_loaded = loaded_model_1(X_test)\n",
        "\n",
        "plot_predictions(predictions=y_preds_loaded.cpu())"
      ],
      "metadata": {
        "colab": {
          "base_uri": "https://localhost:8080/",
          "height": 599
        },
        "id": "hS1LSNakF3xl",
        "outputId": "36d37ba7-07ef-48da-fe4c-b7b9e3f120e7"
      },
      "id": "hS1LSNakF3xl",
      "execution_count": 22,
      "outputs": [
        {
          "output_type": "display_data",
          "data": {
            "text/plain": [
              "<Figure size 1000x700 with 1 Axes>"
            ],
            "image/png": "[encoded data removed]"
          },
          "metadata": {}
        }
      ]
    }
  ],
  "metadata": {
    "colab": {
      "provenance": []
    },
    "language_info": {
      "name": "python"
    },
    "kernelspec": {
      "name": "python3",
      "display_name": "Python 3"
    }
  },
  "nbformat": 4,
  "nbformat_minor": 5
}