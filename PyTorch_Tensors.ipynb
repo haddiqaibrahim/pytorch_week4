{
  "nbformat": 4,
  "nbformat_minor": 0,
  "metadata": {
    "colab": {
      "provenance": []
    },
    "kernelspec": {
      "name": "python3",
      "display_name": "Python 3"
    },
    "language_info": {
      "name": "python"
    }
  },
  "cells": [
    {
      "cell_type": "code",
      "source": [
        "import torch\n"
      ],
      "metadata": {
        "id": "B6BAwk2GfkFT"
      },
      "execution_count": 1,
      "outputs": []
    },
    {
      "cell_type": "markdown",
      "source": [
        "scalar, vector, matrix , tensor"
      ],
      "metadata": {
        "id": "akcGjqenfrfO"
      }
    },
    {
      "cell_type": "code",
      "source": [
        "# Scalar (0D Tensor)\n",
        "scalar = torch.tensor(5)\n",
        "print(\"Scalar:\", scalar)\n",
        "print(\"Dimensions:\", scalar.ndim)\n",
        "print(\"Item:\", scalar.item())  # Gets the value inside\n"
      ],
      "metadata": {
        "colab": {
          "base_uri": "https://localhost:8080/"
        },
        "id": "T6IdSCtVfmiR",
        "outputId": "6c0ffdf1-0370-4128-8fed-a9750968b9a6"
      },
      "execution_count": 2,
      "outputs": [
        {
          "output_type": "stream",
          "name": "stdout",
          "text": [
            "Scalar: tensor(5)\n",
            "Dimensions: 0\n",
            "Item: 5\n"
          ]
        }
      ]
    },
    {
      "cell_type": "code",
      "source": [
        "# Vector (1D Tensor)\n",
        "vector = torch.tensor([1, 2, 3])\n",
        "print(\"Vector:\", vector)\n",
        "print(\"Dimensions:\", vector.ndim)\n"
      ],
      "metadata": {
        "colab": {
          "base_uri": "https://localhost:8080/"
        },
        "id": "Y4pQVJX8gB-T",
        "outputId": "7fb34f90-aca1-4e6a-c192-7b4726bde432"
      },
      "execution_count": 3,
      "outputs": [
        {
          "output_type": "stream",
          "name": "stdout",
          "text": [
            "Vector: tensor([1, 2, 3])\n",
            "Dimensions: 1\n"
          ]
        }
      ]
    },
    {
      "cell_type": "code",
      "source": [
        "# Matrix (2D Tensor)\n",
        "matrix = torch.tensor([[1, 2], [3, 4]])\n",
        "print(\"Matrix:\\n\", matrix)\n",
        "print(\"Shape:\", matrix.shape)\n",
        "print(\"Dimensions:\", matrix.ndim)\n"
      ],
      "metadata": {
        "colab": {
          "base_uri": "https://localhost:8080/"
        },
        "id": "5-v7IgOVgGKj",
        "outputId": "87239c7b-fa70-4e7f-db85-2ebb0743a8cd"
      },
      "execution_count": 4,
      "outputs": [
        {
          "output_type": "stream",
          "name": "stdout",
          "text": [
            "Matrix:\n",
            " tensor([[1, 2],\n",
            "        [3, 4]])\n",
            "Shape: torch.Size([2, 2])\n",
            "Dimensions: 2\n"
          ]
        }
      ]
    },
    {
      "cell_type": "code",
      "source": [
        "# 3D Tensor\n",
        "tensor_3d = torch.tensor([\n",
        "    [[1, 2], [3, 4]],\n",
        "    [[5, 6], [7, 8]]\n",
        "])\n",
        "print(\"3D Tensor:\\n\", tensor_3d)\n",
        "print(\"Shape:\", tensor_3d.shape)\n",
        "print(\"Dimensions:\", tensor_3d.ndim)\n"
      ],
      "metadata": {
        "colab": {
          "base_uri": "https://localhost:8080/"
        },
        "id": "1YsN9Nl1gPcE",
        "outputId": "65bfb6c4-be3c-4ea3-afe6-6ec588147a88"
      },
      "execution_count": 5,
      "outputs": [
        {
          "output_type": "stream",
          "name": "stdout",
          "text": [
            "3D Tensor:\n",
            " tensor([[[1, 2],\n",
            "         [3, 4]],\n",
            "\n",
            "        [[5, 6],\n",
            "         [7, 8]]])\n",
            "Shape: torch.Size([2, 2, 2])\n",
            "Dimensions: 3\n"
          ]
        }
      ]
    },
    {
      "cell_type": "markdown",
      "source": [
        "Tensors with zeroes, ones and Random"
      ],
      "metadata": {
        "id": "VPyKZICvgU36"
      }
    },
    {
      "cell_type": "code",
      "source": [
        "zeros = torch.zeros(2, 3)\n",
        "print(\"Zeros:\\n\", zeros)\n",
        "\n",
        "ones = torch.ones(2, 3)\n",
        "print(\"Ones:\\n\", ones)\n",
        "\n",
        "random = torch.rand(2, 3)\n",
        "print(\"Random:\\n\", random)\n"
      ],
      "metadata": {
        "colab": {
          "base_uri": "https://localhost:8080/"
        },
        "id": "R7RmAkZVgfOT",
        "outputId": "b072d632-e02f-4a04-e337-4f9105c2ade0"
      },
      "execution_count": 6,
      "outputs": [
        {
          "output_type": "stream",
          "name": "stdout",
          "text": [
            "Zeros:\n",
            " tensor([[0., 0., 0.],\n",
            "        [0., 0., 0.]])\n",
            "Ones:\n",
            " tensor([[1., 1., 1.],\n",
            "        [1., 1., 1.]])\n",
            "Random:\n",
            " tensor([[0.2636, 0.6562, 0.9780],\n",
            "        [0.9198, 0.2930, 0.8746]])\n"
          ]
        }
      ]
    },
    {
      "cell_type": "markdown",
      "source": [
        "Tensors from a range"
      ],
      "metadata": {
        "id": "pVt7LL4Zgs_Q"
      }
    },
    {
      "cell_type": "code",
      "source": [
        "range_tensor = torch.arange(0, 18, 2)\n",
        "print(\"Range Tensor:\", range_tensor)\n"
      ],
      "metadata": {
        "colab": {
          "base_uri": "https://localhost:8080/"
        },
        "id": "BVICfPLRgz3l",
        "outputId": "a19e38cd-c097-40ed-c528-c79daeac6d5a"
      },
      "execution_count": 7,
      "outputs": [
        {
          "output_type": "stream",
          "name": "stdout",
          "text": [
            "Range Tensor: tensor([ 0,  2,  4,  6,  8, 10, 12, 14, 16])\n"
          ]
        }
      ]
    },
    {
      "cell_type": "markdown",
      "source": [
        "Tensor Math"
      ],
      "metadata": {
        "id": "WPryq-R9g8Wo"
      }
    },
    {
      "cell_type": "code",
      "source": [
        "x = torch.tensor([1, 2, 3])\n",
        "y = torch.tensor([4, 5, 6])\n",
        "\n",
        "print(\"Addition:\", x + y)\n",
        "print(\"Multiplication:\", x * y)\n",
        "print(\"Power:\", x ** 2)\n",
        "print(\"Matrix dot product:\", torch.dot(x.float(), y.float()))\n"
      ],
      "metadata": {
        "colab": {
          "base_uri": "https://localhost:8080/"
        },
        "id": "8-3sZC3ThBrb",
        "outputId": "f5d83124-c411-45bb-bbaa-06d58972f22c"
      },
      "execution_count": 8,
      "outputs": [
        {
          "output_type": "stream",
          "name": "stdout",
          "text": [
            "Addition: tensor([5, 7, 9])\n",
            "Multiplication: tensor([ 4, 10, 18])\n",
            "Power: tensor([1, 4, 9])\n",
            "Matrix dot product: tensor(32.)\n"
          ]
        }
      ]
    },
    {
      "cell_type": "markdown",
      "source": [],
      "metadata": {
        "id": "rqpiBdddgpJJ"
      }
    },
    {
      "cell_type": "markdown",
      "source": [],
      "metadata": {
        "id": "2fyfv43ihEcF"
      }
    }
  ]
}