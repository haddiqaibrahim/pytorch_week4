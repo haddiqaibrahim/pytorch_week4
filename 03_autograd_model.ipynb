{
  "nbformat": 4,
  "nbformat_minor": 0,
  "metadata": {
    "colab": {
      "provenance": []
    },
    "kernelspec": {
      "name": "python3",
      "display_name": "Python 3"
    },
    "language_info": {
      "name": "python"
    }
  },
  "cells": [
    {
      "cell_type": "markdown",
      "source": [
        "import pyTorch"
      ],
      "metadata": {
        "id": "yYVV7PUGd8dK"
      }
    },
    {
      "cell_type": "code",
      "source": [
        "import torch\n",
        "from torch import nn\n"
      ],
      "metadata": {
        "id": "VOlanGCOeGVG"
      },
      "execution_count": 11,
      "outputs": []
    },
    {
      "cell_type": "markdown",
      "source": [
        "Define a Model Using nn.Module"
      ],
      "metadata": {
        "id": "WOafkNToeYnt"
      }
    },
    {
      "cell_type": "code",
      "source": [
        "class SimpleModel(nn.Module):\n",
        "    def __init__(self):\n",
        "        super().__init__()\n",
        "        self.layer = nn.Linear(in_features=1, out_features=1)\n",
        "\n",
        "    def forward(self, x):\n",
        "        return self.layer(x)\n"
      ],
      "metadata": {
        "id": "a6NWt5y_eahj"
      },
      "execution_count": 12,
      "outputs": []
    },
    {
      "cell_type": "markdown",
      "source": [
        "Create a Model Instance"
      ],
      "metadata": {
        "id": "poAW6gWOeiSh"
      }
    },
    {
      "cell_type": "code",
      "source": [
        "model = SimpleModel()\n"
      ],
      "metadata": {
        "id": "TrE0QE7SeoR9"
      },
      "execution_count": 13,
      "outputs": []
    },
    {
      "cell_type": "markdown",
      "source": [
        "Create Dummy Data (Input and Target)"
      ],
      "metadata": {
        "id": "sp3GY1aVett7"
      }
    },
    {
      "cell_type": "code",
      "source": [
        "x = torch.tensor([[1.0], [2.0], [3.0]])\n",
        "y_true = torch.tensor([[2.0], [4.0], [6.0]])\n"
      ],
      "metadata": {
        "id": "ZqEwAcJCey7H"
      },
      "execution_count": 14,
      "outputs": []
    },
    {
      "cell_type": "markdown",
      "source": [
        "Make Predictions (Forward Pass)"
      ],
      "metadata": {
        "id": "2uPpEpmke4B-"
      }
    },
    {
      "cell_type": "code",
      "source": [
        "y_pred = model(x)\n",
        "print(\"Predictions before training:\\n\", y_pred)\n"
      ],
      "metadata": {
        "colab": {
          "base_uri": "https://localhost:8080/"
        },
        "id": "LCVQntJDe_OV",
        "outputId": "eae4e07e-ecc6-49ff-9599-0ff3becef548"
      },
      "execution_count": 15,
      "outputs": [
        {
          "output_type": "stream",
          "name": "stdout",
          "text": [
            "Predictions before training:\n",
            " tensor([[-1.0360],\n",
            "        [-2.0225],\n",
            "        [-3.0089]], grad_fn=<AddmmBackward0>)\n"
          ]
        }
      ]
    },
    {
      "cell_type": "markdown",
      "source": [
        "Define Loss Function and Optimizer"
      ],
      "metadata": {
        "id": "Z3Nk6fpmfESA"
      }
    },
    {
      "cell_type": "code",
      "source": [
        "loss_fn = nn.MSELoss()\n",
        "optimizer = torch.optim.SGD(model.parameters(), lr=0.01)\n"
      ],
      "metadata": {
        "id": "WNG3KEvmfNEy"
      },
      "execution_count": 16,
      "outputs": []
    },
    {
      "cell_type": "markdown",
      "source": [
        "Training Loop (Model Learns Here)"
      ],
      "metadata": {
        "id": "mILjSQT_fQtM"
      }
    },
    {
      "cell_type": "code",
      "source": [
        "epochs = 100\n",
        "for epoch in range(epochs):\n",
        "    # 1. Forward pass\n",
        "    y_pred = model(x)\n",
        "    loss = loss_fn(y_pred, y_true)\n",
        "\n",
        "    # 2. Zero gradients (important!)\n",
        "    optimizer.zero_grad()\n",
        "\n",
        "    # 3. Backward pass (calculate gradients)\n",
        "    loss.backward()\n",
        "\n",
        "    # 4. Optimizer step (update weights)\n",
        "    optimizer.step()\n",
        "\n",
        "    # 5. Print progress\n",
        "    if epoch % 10 == 0:\n",
        "        print(f\"Epoch {epoch} | Loss: {loss.item():.4f}\")\n"
      ],
      "metadata": {
        "colab": {
          "base_uri": "https://localhost:8080/"
        },
        "id": "VSbK-ZuHfVvP",
        "outputId": "e188d577-cfd2-46ca-8ce5-f048bf09623e"
      },
      "execution_count": 17,
      "outputs": [
        {
          "output_type": "stream",
          "name": "stdout",
          "text": [
            "Epoch 0 | Loss: 42.2160\n",
            "Epoch 10 | Loss: 4.1579\n",
            "Epoch 20 | Loss: 0.5275\n",
            "Epoch 30 | Loss: 0.1756\n",
            "Epoch 40 | Loss: 0.1362\n",
            "Epoch 50 | Loss: 0.1269\n",
            "Epoch 60 | Loss: 0.1206\n",
            "Epoch 70 | Loss: 0.1149\n",
            "Epoch 80 | Loss: 0.1095\n",
            "Epoch 90 | Loss: 0.1044\n"
          ]
        }
      ]
    },
    {
      "cell_type": "markdown",
      "source": [
        "Final Prediction (After Training)"
      ],
      "metadata": {
        "id": "e8ArrVh0fax7"
      }
    },
    {
      "cell_type": "code",
      "source": [
        "print(\"\\nPredictions after training:\\n\", model(x))\n"
      ],
      "metadata": {
        "colab": {
          "base_uri": "https://localhost:8080/"
        },
        "id": "M6LNN4Rpffbk",
        "outputId": "895b828b-c5ac-4654-9539-a445a30ea41c"
      },
      "execution_count": 18,
      "outputs": [
        {
          "output_type": "stream",
          "name": "stdout",
          "text": [
            "\n",
            "Predictions after training:\n",
            " tensor([[2.4664],\n",
            "        [4.1000],\n",
            "        [5.7337]], grad_fn=<AddmmBackward0>)\n"
          ]
        }
      ]
    },
    {
      "cell_type": "markdown",
      "source": [
        "Try New Input"
      ],
      "metadata": {
        "id": "MTSbgAzYfi0a"
      }
    },
    {
      "cell_type": "code",
      "source": [
        "new_input = torch.tensor([[4.0]])\n",
        "new_output = model(new_input)\n",
        "print(\"Prediction for 4.0:\", new_output.item())\n"
      ],
      "metadata": {
        "colab": {
          "base_uri": "https://localhost:8080/"
        },
        "id": "XUZvihVAfn_o",
        "outputId": "32ec73ab-3e9d-47f5-871c-600f4b484485"
      },
      "execution_count": 19,
      "outputs": [
        {
          "output_type": "stream",
          "name": "stdout",
          "text": [
            "Prediction for 4.0: 7.367376327514648\n"
          ]
        }
      ]
    }
  ]
}