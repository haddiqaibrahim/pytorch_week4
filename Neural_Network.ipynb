{
  "cells": [
    {
      "cell_type": "markdown",
      "metadata": {
        "id": "blj3KBIQXLj4"
      },
      "source": [
        "# Neural Network Implementation in PyTorch"
      ],
      "id": "blj3KBIQXLj4"
    },
    {
      "cell_type": "code",
      "metadata": {
        "id": "_0jEudPAXLj7"
      },
      "source": [
        "import torch\n",
        "import matplotlib.pyplot as plt"
      ],
      "id": "_0jEudPAXLj7",
      "execution_count": 2,
      "outputs": []
    },
    {
      "cell_type": "code",
      "source": [
        "# Create input (features) and output (labels)\n",
        "x = torch.arange(0, 1, 0.02).unsqueeze(1)\n",
        "w_true = 3.0\n",
        "b_true = 0.5\n",
        "y = w_true * x + b_true"
      ],
      "metadata": {
        "id": "b0a4mSRYYKRu"
      },
      "id": "b0a4mSRYYKRu",
      "execution_count": 3,
      "outputs": []
    },
    {
      "cell_type": "code",
      "source": [
        "# Visualize the data\n",
        "plt.scatter(x, y, color='blue')\n",
        "plt.title(\"Generated Linear Data\")\n",
        "plt.xlabel(\"x\")\n",
        "plt.ylabel(\"y\")\n",
        "plt.grid(True)\n",
        "plt.show()"
      ],
      "metadata": {
        "colab": {
          "base_uri": "https://localhost:8080/",
          "height": 472
        },
        "id": "5E7p1aEPYLTW",
        "outputId": "f8f6dade-1be8-433c-cebe-caa64f321a07"
      },
      "id": "5E7p1aEPYLTW",
      "execution_count": 4,
      "outputs": [
        {
          "output_type": "display_data",
          "data": {
            "text/plain": [
              "<Figure size 640x480 with 1 Axes>"
            ],
            "image/png": "[encoded data removed]"
          },
          "metadata": {}
        }
      ]
    },
    {
      "cell_type": "code",
      "source": [
        "### Split into train/test\n",
        "\n",
        "x_train, x_test = x[:30], x[30:]\n",
        "y_train, y_test = y[:30], y[30:]"
      ],
      "metadata": {
        "id": "8vBOUVB5YRwP"
      },
      "id": "8vBOUVB5YRwP",
      "execution_count": 5,
      "outputs": []
    },
    {
      "cell_type": "code",
      "source": [
        "### Custom Linear Regression Model\n",
        "import torch.nn as nn\n",
        "\n",
        "class CustomLinearRegression(nn.Module):\n",
        "    def __init__(self):\n",
        "        super().__init__()\n",
        "        self.weight = nn.Parameter(torch.randn(1))\n",
        "        self.bias = nn.Parameter(torch.randn(1))\n",
        "\n",
        "    def forward(self, x):\n",
        "        return self.weight * x + self.bias\n",
        "\n",
        "model = CustomLinearRegression()\n"
      ],
      "metadata": {
        "id": "US3DEGeUYUQS"
      },
      "id": "US3DEGeUYUQS",
      "execution_count": 6,
      "outputs": []
    },
    {
      "cell_type": "code",
      "source": [
        "### Loss and Optimizer\n",
        "loss_fn = nn.MSELoss()\n",
        "optimizer = torch.optim.SGD(model.parameters(), lr=0.1)"
      ],
      "metadata": {
        "id": "wir-5WWUYayM"
      },
      "id": "wir-5WWUYayM",
      "execution_count": 7,
      "outputs": []
    },
    {
      "cell_type": "code",
      "source": [
        "### Training the Model\n",
        "for epoch in range(200):\n",
        "    model.train()\n",
        "    pred = model(x_train)\n",
        "    loss = loss_fn(pred, y_train)\n",
        "\n",
        "    optimizer.zero_grad()\n",
        "    loss.backward()\n",
        "    optimizer.step()\n",
        "\n",
        "    if epoch % 20 == 0:\n",
        "        print(f\"Epoch {epoch}: Loss = {loss.item():.4f}\")"
      ],
      "metadata": {
        "colab": {
          "base_uri": "https://localhost:8080/"
        },
        "id": "X3dpMvvNYlSJ",
        "outputId": "8accceab-37d5-44c1-c9fc-d9db5328a6d3"
      },
      "id": "X3dpMvvNYlSJ",
      "execution_count": 8,
      "outputs": [
        {
          "output_type": "stream",
          "name": "stdout",
          "text": [
            "Epoch 0: Loss = 1.3948\n",
            "Epoch 20: Loss = 0.2077\n",
            "Epoch 40: Loss = 0.1664\n",
            "Epoch 60: Loss = 0.1334\n",
            "Epoch 80: Loss = 0.1069\n",
            "Epoch 100: Loss = 0.0857\n",
            "Epoch 120: Loss = 0.0687\n",
            "Epoch 140: Loss = 0.0551\n",
            "Epoch 160: Loss = 0.0441\n",
            "Epoch 180: Loss = 0.0354\n"
          ]
        }
      ]
    },
    {
      "cell_type": "code",
      "source": [
        "### Evaluate on Test Set\n",
        "model.eval()\n",
        "with torch.no_grad():\n",
        "    predictions = model(x_test)\n",
        "    test_loss = loss_fn(predictions, y_test)\n",
        "    print(f\"Test Loss: {test_loss:.4f}\")"
      ],
      "metadata": {
        "colab": {
          "base_uri": "https://localhost:8080/"
        },
        "id": "9sNXWkXoYpUH",
        "outputId": "a45d68e3-4372-4bb2-ef56-801ac99a0bac"
      },
      "id": "9sNXWkXoYpUH",
      "execution_count": 9,
      "outputs": [
        {
          "output_type": "stream",
          "name": "stdout",
          "text": [
            "Test Loss: 0.2408\n"
          ]
        }
      ]
    },
    {
      "cell_type": "code",
      "source": [
        "### Evaluation Metrics\n",
        "\n",
        "mae = torch.mean(torch.abs(predictions - y_test))\n",
        "mse = torch.mean((predictions - y_test) ** 2)\n",
        "rmse = torch.sqrt(mse)\n",
        "print(f\"MAE: {mae:.4f}, MSE: {mse:.4f}, RMSE: {rmse:.4f}\")"
      ],
      "metadata": {
        "colab": {
          "base_uri": "https://localhost:8080/"
        },
        "id": "qfCaAtUnYyVe",
        "outputId": "cc7e2b55-84a9-4c3c-f39c-c07d93d67f81"
      },
      "id": "qfCaAtUnYyVe",
      "execution_count": 10,
      "outputs": [
        {
          "output_type": "stream",
          "name": "stdout",
          "text": [
            "MAE: 0.4778, MSE: 0.2408, RMSE: 0.4907\n"
          ]
        }
      ]
    },
    {
      "cell_type": "code",
      "source": [
        "##Part 2: PyTorch Built-in Linear Model\n",
        "from torch import device\n",
        "\n",
        "device = torch.device(\"cuda\" if torch.cuda.is_available() else \"cpu\")\n"
      ],
      "metadata": {
        "id": "ERH6XjkrY5KX"
      },
      "id": "ERH6XjkrY5KX",
      "execution_count": 11,
      "outputs": []
    },
    {
      "cell_type": "code",
      "source": [
        "# Define a simple linear model using built-in layers\n",
        "class TorchLinearModel(nn.Module):\n",
        "    def __init__(self):\n",
        "        super().__init__()\n",
        "        self.linear = nn.Linear(1, 1)\n",
        "\n",
        "    def forward(self, x):\n",
        "        return self.linear(x)\n",
        "\n",
        "model = TorchLinearModel().to(device)"
      ],
      "metadata": {
        "id": "lN5lH4QnY_OS"
      },
      "id": "lN5lH4QnY_OS",
      "execution_count": 12,
      "outputs": []
    },
    {
      "cell_type": "code",
      "source": [
        "# Prepare Data for Training\n",
        "x_train, y_train = x_train.to(device), y_train.to(device)\n",
        "x_test, y_test = x_test.to(device), y_test.to(device)"
      ],
      "metadata": {
        "id": "pO7GIB3zZFrs"
      },
      "id": "pO7GIB3zZFrs",
      "execution_count": 13,
      "outputs": []
    },
    {
      "cell_type": "code",
      "source": [
        "# Train the Model\n",
        "loss_fn = nn.MSELoss()\n",
        "optimizer = torch.optim.SGD(model.parameters(), lr=0.1)\n",
        "\n",
        "for epoch in range(100):\n",
        "    model.train()\n",
        "    y_pred = model(x_train)\n",
        "    loss = loss_fn(y_pred, y_train)\n",
        "\n",
        "    optimizer.zero_grad()\n",
        "    loss.backward()\n",
        "    optimizer.step()\n",
        "\n",
        "    if epoch % 10 == 0:\n",
        "        print(f\"Epoch {epoch}: Loss = {loss.item():.4f}\")"
      ],
      "metadata": {
        "colab": {
          "base_uri": "https://localhost:8080/"
        },
        "id": "tcBFRCg7ZK8a",
        "outputId": "dc2ec951-ec3b-4351-998c-17ae11d012b5"
      },
      "id": "tcBFRCg7ZK8a",
      "execution_count": 14,
      "outputs": [
        {
          "output_type": "stream",
          "name": "stdout",
          "text": [
            "Epoch 0: Loss = 2.4576\n",
            "Epoch 10: Loss = 0.1192\n",
            "Epoch 20: Loss = 0.0912\n",
            "Epoch 30: Loss = 0.0816\n",
            "Epoch 40: Loss = 0.0730\n",
            "Epoch 50: Loss = 0.0654\n",
            "Epoch 60: Loss = 0.0585\n",
            "Epoch 70: Loss = 0.0524\n",
            "Epoch 80: Loss = 0.0469\n",
            "Epoch 90: Loss = 0.0420\n"
          ]
        }
      ]
    },
    {
      "cell_type": "code",
      "source": [
        "# Predict and Visualize\n",
        "model.eval()\n",
        "with torch.no_grad():\n",
        "    preds = model(x_test).cpu()\n",
        "\n",
        "plt.scatter(x.cpu(), y.cpu(), label='Original')\n",
        "plt.scatter(x_test.cpu(), preds, color='red', label='Predicted')\n",
        "plt.legend()\n",
        "plt.title(\"Model Prediction vs True\")\n",
        "plt.grid(True)\n",
        "plt.show()"
      ],
      "metadata": {
        "colab": {
          "base_uri": "https://localhost:8080/",
          "height": 452
        },
        "id": "-4pu1XOzZPEG",
        "outputId": "0aabae27-d868-47d3-c6c3-6ec2b450c8fe"
      },
      "id": "-4pu1XOzZPEG",
      "execution_count": 15,
      "outputs": [
        {
          "output_type": "display_data",
          "data": {
            "text/plain": [
              "<Figure size 640x480 with 1 Axes>"
            ],
            "image/png": "[encoded data removed]"
          },
          "metadata": {}
        }
      ]
    },
    {
      "cell_type": "code",
      "source": [
        "# Part 3: Binary Classification\n",
        "\n",
        "from sklearn.datasets import make_circles\n",
        "import numpy as np\n",
        "from sklearn.model_selection import train_test_split\n",
        "from sklearn.metrics import accuracy_score\n",
        "\n",
        "n_samples = 1000\n",
        "X, y = make_circles(n_samples=n_samples, noise=0.05)\n",
        "X = torch.tensor(X, dtype=torch.float32)\n",
        "y = torch.tensor(y, dtype=torch.float32).unsqueeze(1)\n",
        "\n",
        "x_train, x_test, y_train, y_test = train_test_split(X, y, test_size=0.3)"
      ],
      "metadata": {
        "id": "CJzql1isZWjI"
      },
      "id": "CJzql1isZWjI",
      "execution_count": 16,
      "outputs": []
    },
    {
      "cell_type": "code",
      "source": [
        "# Binary Classifier Model\n",
        "class CircleClassifier(nn.Module):\n",
        "    def __init__(self):\n",
        "        super().__init__()\n",
        "        self.model = nn.Sequential(\n",
        "            nn.Linear(2, 8),\n",
        "            nn.ReLU(),\n",
        "            nn.Linear(8, 1),\n",
        "            nn.Sigmoid()\n",
        "        )\n",
        "\n",
        "    def forward(self, x):\n",
        "        return self.model(x)\n",
        "\n",
        "model = CircleClassifier()"
      ],
      "metadata": {
        "id": "cB9n-zFTZd-8"
      },
      "id": "cB9n-zFTZd-8",
      "execution_count": 17,
      "outputs": []
    },
    {
      "cell_type": "code",
      "source": [
        "# Train the Model\n",
        "loss_fn = nn.BCELoss()\n",
        "optimizer = torch.optim.Adam(model.parameters(), lr=0.01)\n",
        "\n",
        "for epoch in range(200):\n",
        "    model.train()\n",
        "    y_pred = model(x_train)\n",
        "    loss = loss_fn(y_pred, y_train)\n",
        "\n",
        "    optimizer.zero_grad()\n",
        "    loss.backward()\n",
        "    optimizer.step()\n",
        "\n",
        "    if epoch % 20 == 0:\n",
        "        print(f\"Epoch {epoch}: Loss = {loss.item():.4f}\")\n"
      ],
      "metadata": {
        "colab": {
          "base_uri": "https://localhost:8080/"
        },
        "id": "9Zp124KaZi4T",
        "outputId": "93a9abab-0efd-495d-b274-128133622816"
      },
      "id": "9Zp124KaZi4T",
      "execution_count": 18,
      "outputs": [
        {
          "output_type": "stream",
          "name": "stdout",
          "text": [
            "Epoch 0: Loss = 0.6857\n",
            "Epoch 20: Loss = 0.6660\n",
            "Epoch 40: Loss = 0.6398\n",
            "Epoch 60: Loss = 0.6032\n",
            "Epoch 80: Loss = 0.5590\n",
            "Epoch 100: Loss = 0.5104\n",
            "Epoch 120: Loss = 0.4640\n",
            "Epoch 140: Loss = 0.4218\n",
            "Epoch 160: Loss = 0.3810\n",
            "Epoch 180: Loss = 0.3439\n"
          ]
        }
      ]
    },
    {
      "cell_type": "code",
      "source": [
        "# Evaluate Model\n",
        "model.eval()\n",
        "with torch.no_grad():\n",
        "    preds = model(x_test).round()\n",
        "acc = accuracy_score(y_test, preds)\n",
        "print(f\"Test Accuracy: {acc:.2f}\")"
      ],
      "metadata": {
        "colab": {
          "base_uri": "https://localhost:8080/"
        },
        "id": "ZGUh2rmTZlsc",
        "outputId": "e8143e54-ece2-4432-99e3-ee3ab1d226ac"
      },
      "id": "ZGUh2rmTZlsc",
      "execution_count": 19,
      "outputs": [
        {
          "output_type": "stream",
          "name": "stdout",
          "text": [
            "Test Accuracy: 0.98\n"
          ]
        }
      ]
    },
    {
      "cell_type": "code",
      "source": [
        "#Part 4: Multi-Class Classification with Activation Functions\n",
        "\n",
        "# Activation Function Demos\n",
        "import torch.nn.functional as F\n",
        "\n",
        "x_vals = torch.linspace(-10, 10, 100)\n",
        "relu = F.relu(x_vals)\n",
        "sigmoid = torch.sigmoid(x_vals)\n",
        "\n",
        "def show_activation(x, y, title):\n",
        "    plt.plot(x, y)\n",
        "    plt.title(title)\n",
        "    plt.grid(True)\n",
        "    plt.show()\n",
        "\n",
        "show_activation(x_vals, relu, \"ReLU Activation\")\n",
        "show_activation(x_vals, sigmoid, \"Sigmoid Activation\")\n"
      ],
      "metadata": {
        "colab": {
          "base_uri": "https://localhost:8080/",
          "height": 887
        },
        "id": "wBV7LuOvZvNg",
        "outputId": "02349165-8f75-4035-924a-6cb67544b43f"
      },
      "id": "wBV7LuOvZvNg",
      "execution_count": 20,
      "outputs": [
        {
          "output_type": "display_data",
          "data": {
            "text/plain": [
              "<Figure size 640x480 with 1 Axes>"
            ],
            "image/png": "[encoded data removed]"
          },
          "metadata": {}
        },
        {
          "output_type": "display_data",
          "data": {
            "text/plain": [
              "<Figure size 640x480 with 1 Axes>"
            ],
            "image/png": "[encoded data removed]"
          },
          "metadata": {}
        }
      ]
    },
    {
      "cell_type": "code",
      "source": [
        "# Multi-Class Classification\n",
        "from sklearn.datasets import make_blobs\n",
        "from sklearn.preprocessing import StandardScaler\n",
        "\n",
        "X_blob, y_blob = make_blobs(n_samples=300, centers=3, n_features=2)\n",
        "scaler = StandardScaler()\n",
        "X_blob = torch.tensor(scaler.fit_transform(X_blob), dtype=torch.float32)\n",
        "y_blob = torch.tensor(y_blob, dtype=torch.long)"
      ],
      "metadata": {
        "id": "AMlnEJCkZ5Sq"
      },
      "id": "AMlnEJCkZ5Sq",
      "execution_count": 21,
      "outputs": []
    },
    {
      "cell_type": "code",
      "source": [
        "# Model\n",
        "class BlobModel(nn.Module):\n",
        "    def __init__(self):\n",
        "        super().__init__()\n",
        "        self.net = nn.Sequential(\n",
        "            nn.Linear(2, 64),\n",
        "            nn.ReLU(),\n",
        "            nn.Linear(64, 3)\n",
        "        )\n",
        "\n",
        "    def forward(self, x):\n",
        "        return self.net(x)\n",
        "\n",
        "model = BlobModel()"
      ],
      "metadata": {
        "id": "RNpUWtTiZ_as"
      },
      "id": "RNpUWtTiZ_as",
      "execution_count": 22,
      "outputs": []
    },
    {
      "cell_type": "code",
      "source": [
        "### Training with CrossEntropy\n",
        "loss_fn = nn.CrossEntropyLoss()\n",
        "optimizer = torch.optim.SGD(model.parameters(), lr=0.05)\n",
        "\n",
        "for epoch in range(200):\n",
        "    model.train()\n",
        "    y_logits = model(X_blob)\n",
        "    loss = loss_fn(y_logits, y_blob)\n",
        "\n",
        "    optimizer.zero_grad()\n",
        "    loss.backward()\n",
        "    optimizer.step()\n",
        "\n",
        "    if epoch % 20 == 0:\n",
        "        print(f\"Epoch {epoch}, Loss: {loss.item():.4f}\")"
      ],
      "metadata": {
        "colab": {
          "base_uri": "https://localhost:8080/"
        },
        "id": "HXL_DYz7aFlI",
        "outputId": "4e90f9ba-e500-4ab5-df92-c63f242a7bc4"
      },
      "id": "HXL_DYz7aFlI",
      "execution_count": 23,
      "outputs": [
        {
          "output_type": "stream",
          "name": "stdout",
          "text": [
            "Epoch 0, Loss: 1.3429\n",
            "Epoch 20, Loss: 0.2178\n",
            "Epoch 40, Loss: 0.1054\n",
            "Epoch 60, Loss: 0.0685\n",
            "Epoch 80, Loss: 0.0505\n",
            "Epoch 100, Loss: 0.0400\n",
            "Epoch 120, Loss: 0.0331\n",
            "Epoch 140, Loss: 0.0282\n",
            "Epoch 160, Loss: 0.0246\n",
            "Epoch 180, Loss: 0.0218\n"
          ]
        }
      ]
    },
    {
      "cell_type": "markdown",
      "source": [
        "## Summary of Concepts Used:\n",
        "- Linear regression (manual and built-in)\n",
        "- Training and loss loops\n",
        "- Binary classification\n",
        "- Multi-class classification\n",
        "- Custom activation function visuals\n",
        "- Evaluation metrics: MSE, MAE, RMSE, accuracy\n",
        "- Plotting predictions\n"
      ],
      "metadata": {
        "id": "QClnGJmdaUqw"
      },
      "id": "QClnGJmdaUqw"
    }
  ],
  "metadata": {
    "kernelspec": {
      "display_name": "Python 3",
      "language": "python",
      "name": "python3"
    },
    "language_info": {
      "name": "python",
      "version": "3.11"
    },
    "colab": {
      "provenance": []
    }
  },
  "nbformat": 4,
  "nbformat_minor": 5
}