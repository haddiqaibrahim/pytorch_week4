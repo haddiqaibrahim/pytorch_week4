{
  "cells": [
    {
      "cell_type": "markdown",
      "id": "1f6794e6",
      "metadata": {
        "id": "1f6794e6"
      },
      "source": [
        "# PyTorch fundamentals\n",
        "\n",
        "---"
      ]
    },
    {
      "cell_type": "markdown",
      "id": "d4e8de42",
      "metadata": {
        "id": "d4e8de42"
      },
      "source": [
        "## Part 1: Tensor Basics"
      ]
    },
    {
      "cell_type": "code",
      "execution_count": 1,
      "id": "4f9fbb97",
      "metadata": {
        "colab": {
          "base_uri": "https://localhost:8080/"
        },
        "id": "4f9fbb97",
        "outputId": "2d8172d4-ee97-4864-f2b7-9654590e3d7a"
      },
      "outputs": [
        {
          "output_type": "execute_result",
          "data": {
            "text/plain": [
              "tensor(7)"
            ]
          },
          "metadata": {},
          "execution_count": 1
        }
      ],
      "source": [
        "import torch\n",
        "\n",
        "# Creating a scalar\n",
        "tensor_scalar = torch.tensor(7)\n",
        "tensor_scalar"
      ]
    },
    {
      "cell_type": "code",
      "execution_count": 2,
      "id": "503c1bae",
      "metadata": {
        "colab": {
          "base_uri": "https://localhost:8080/"
        },
        "id": "503c1bae",
        "outputId": "0776ff87-cd02-4c92-d0ef-6be6d00feddd"
      },
      "outputs": [
        {
          "output_type": "execute_result",
          "data": {
            "text/plain": [
              "tensor([7, 8])"
            ]
          },
          "metadata": {},
          "execution_count": 2
        }
      ],
      "source": [
        "# Creating a vector\n",
        "tensor_vector = torch.tensor([7, 8])\n",
        "tensor_vector"
      ]
    },
    {
      "cell_type": "code",
      "execution_count": 3,
      "id": "82619cc1",
      "metadata": {
        "colab": {
          "base_uri": "https://localhost:8080/"
        },
        "id": "82619cc1",
        "outputId": "54b3fa84-9004-4a7c-e479-ede7e4726843"
      },
      "outputs": [
        {
          "output_type": "execute_result",
          "data": {
            "text/plain": [
              "tensor([[ 7,  8],\n",
              "        [ 9, 10]])"
            ]
          },
          "metadata": {},
          "execution_count": 3
        }
      ],
      "source": [
        "# Creating a matrix\n",
        "tensor_matrix = torch.tensor([[7, 8], [9, 10]])\n",
        "tensor_matrix"
      ]
    },
    {
      "cell_type": "code",
      "execution_count": 4,
      "id": "d922d13d",
      "metadata": {
        "colab": {
          "base_uri": "https://localhost:8080/"
        },
        "id": "d922d13d",
        "outputId": "a7e3cf49-dbc8-4980-f631-d0d26904675c"
      },
      "outputs": [
        {
          "output_type": "execute_result",
          "data": {
            "text/plain": [
              "tensor([[[1, 2, 3],\n",
              "         [4, 5, 6],\n",
              "         [7, 8, 9]]])"
            ]
          },
          "metadata": {},
          "execution_count": 4
        }
      ],
      "source": [
        "# Creating a tensor with more dimensions\n",
        "tensor_multi = torch.tensor([[[1, 2, 3], [4, 5, 6], [7, 8, 9]]])\n",
        "tensor_multi"
      ]
    },
    {
      "cell_type": "code",
      "execution_count": 5,
      "id": "b62ef9a1",
      "metadata": {
        "colab": {
          "base_uri": "https://localhost:8080/"
        },
        "id": "b62ef9a1",
        "outputId": "2e6f2c3d-d3ed-4b83-82c1-620726784d0b"
      },
      "outputs": [
        {
          "output_type": "execute_result",
          "data": {
            "text/plain": [
              "torch.Size([1, 3, 3])"
            ]
          },
          "metadata": {},
          "execution_count": 5
        }
      ],
      "source": [
        "# Shape of a tensor\n",
        "tensor_multi.shape"
      ]
    },
    {
      "cell_type": "code",
      "execution_count": 6,
      "id": "f71e34c1",
      "metadata": {
        "colab": {
          "base_uri": "https://localhost:8080/"
        },
        "id": "f71e34c1",
        "outputId": "8dded1b4-ecf8-486d-8658-49cddf72646d"
      },
      "outputs": [
        {
          "output_type": "execute_result",
          "data": {
            "text/plain": [
              "tensor([ 1,  9, 17])"
            ]
          },
          "metadata": {},
          "execution_count": 6
        }
      ],
      "source": [
        "# Indexing in tensor\n",
        "x = torch.tensor([[[1, 9, 17], [25, 33, 41], [49, 57, 65]]])\n",
        "x[0, 0, :]"
      ]
    },
    {
      "cell_type": "code",
      "execution_count": 7,
      "id": "80c13f02",
      "metadata": {
        "colab": {
          "base_uri": "https://localhost:8080/"
        },
        "id": "80c13f02",
        "outputId": "db7f9e99-2fde-4866-b908-45cff5091a79"
      },
      "outputs": [
        {
          "output_type": "execute_result",
          "data": {
            "text/plain": [
              "tensor(57)"
            ]
          },
          "metadata": {},
          "execution_count": 7
        }
      ],
      "source": [
        "# Accessing specific value from tensor\n",
        "x[0, 2, 1]"
      ]
    },
    {
      "cell_type": "markdown",
      "id": "1960d4f6",
      "metadata": {
        "id": "1960d4f6"
      },
      "source": [
        "## Part 2: Tensor Operations"
      ]
    },
    {
      "cell_type": "code",
      "execution_count": 8,
      "id": "7a54a84f",
      "metadata": {
        "colab": {
          "base_uri": "https://localhost:8080/"
        },
        "id": "7a54a84f",
        "outputId": "cba27678-ce35-4dd7-d31e-8121178e000e"
      },
      "outputs": [
        {
          "output_type": "execute_result",
          "data": {
            "text/plain": [
              "tensor([ 4, 10, 18])"
            ]
          },
          "metadata": {},
          "execution_count": 8
        }
      ],
      "source": [
        "import torch\n",
        "\n",
        "# Element-wise multiplication\n",
        "tensor_1 = torch.tensor([1, 2, 3])\n",
        "tensor_2 = torch.tensor([4, 5, 6])\n",
        "tensor_1 * tensor_2"
      ]
    },
    {
      "cell_type": "code",
      "execution_count": 9,
      "id": "f42d1e33",
      "metadata": {
        "colab": {
          "base_uri": "https://localhost:8080/"
        },
        "id": "f42d1e33",
        "outputId": "36a144af-9e25-43e1-e5cd-9e8b60ee69ff"
      },
      "outputs": [
        {
          "output_type": "execute_result",
          "data": {
            "text/plain": [
              "tensor([[19, 22],\n",
              "        [43, 50]])"
            ]
          },
          "metadata": {},
          "execution_count": 9
        }
      ],
      "source": [
        "# Matrix multiplication using matmul\n",
        "a = torch.tensor([[1, 2], [3, 4]])\n",
        "b = torch.tensor([[5, 6], [7, 8]])\n",
        "torch.matmul(a, b)"
      ]
    },
    {
      "cell_type": "code",
      "execution_count": 10,
      "id": "8c7d9a1d",
      "metadata": {
        "colab": {
          "base_uri": "https://localhost:8080/"
        },
        "id": "8c7d9a1d",
        "outputId": "84466b8c-389a-4712-d55a-f5a3adc3dd40"
      },
      "outputs": [
        {
          "output_type": "execute_result",
          "data": {
            "text/plain": [
              "tensor([[19, 22],\n",
              "        [43, 50]])"
            ]
          },
          "metadata": {},
          "execution_count": 10
        }
      ],
      "source": [
        "# Matrix multiplication using @\n",
        "a @ b"
      ]
    },
    {
      "cell_type": "code",
      "execution_count": 11,
      "id": "904c64b4",
      "metadata": {
        "colab": {
          "base_uri": "https://localhost:8080/"
        },
        "id": "904c64b4",
        "outputId": "1ac0d46e-647b-4fd8-ff14-d0583d234666"
      },
      "outputs": [
        {
          "output_type": "execute_result",
          "data": {
            "text/plain": [
              "(tensor(2.), tensor(6.), tensor(3.), tensor(1.))"
            ]
          },
          "metadata": {},
          "execution_count": 11
        }
      ],
      "source": [
        "# Aggregation\n",
        "x = torch.tensor([1.0, 2.0, 3.0])\n",
        "x.mean(), x.sum(), x.max(), x.min()"
      ]
    },
    {
      "cell_type": "markdown",
      "id": "19fe6ae4",
      "metadata": {
        "id": "19fe6ae4"
      },
      "source": [
        "## Part 3: NumPy and PyTorch"
      ]
    },
    {
      "cell_type": "code",
      "execution_count": 12,
      "id": "869e3567",
      "metadata": {
        "colab": {
          "base_uri": "https://localhost:8080/"
        },
        "id": "869e3567",
        "outputId": "7fdb9f0b-25db-4d2c-eae3-23cceac95ed0"
      },
      "outputs": [
        {
          "output_type": "execute_result",
          "data": {
            "text/plain": [
              "(array([1., 2., 3., 4., 5., 6., 7., 8., 9.]),\n",
              " tensor([1., 2., 3., 4., 5., 6., 7., 8., 9.], dtype=torch.float64))"
            ]
          },
          "metadata": {},
          "execution_count": 12
        }
      ],
      "source": [
        "import numpy as np\n",
        "import torch\n",
        "\n",
        "# NumPy to tensor\n",
        "arr = np.arange(1., 10.)\n",
        "tensor_from_np = torch.from_numpy(arr)\n",
        "arr, tensor_from_np"
      ]
    },
    {
      "cell_type": "code",
      "execution_count": 13,
      "id": "56861303",
      "metadata": {
        "colab": {
          "base_uri": "https://localhost:8080/"
        },
        "id": "56861303",
        "outputId": "26c0fc15-2e01-4adb-9684-d7e835c2a3c1"
      },
      "outputs": [
        {
          "output_type": "execute_result",
          "data": {
            "text/plain": [
              "(array([ 2.,  3.,  4.,  5.,  6.,  7.,  8.,  9., 10.]),\n",
              " tensor([1., 2., 3., 4., 5., 6., 7., 8., 9.], dtype=torch.float64))"
            ]
          },
          "metadata": {},
          "execution_count": 13
        }
      ],
      "source": [
        "# Changing numpy array doesn't change tensor\n",
        "arr = arr + 1\n",
        "arr, tensor_from_np"
      ]
    },
    {
      "cell_type": "code",
      "execution_count": 14,
      "id": "22966f32",
      "metadata": {
        "colab": {
          "base_uri": "https://localhost:8080/"
        },
        "id": "22966f32",
        "outputId": "f9dccf0b-ee02-40f0-c0cc-c44a6e3c6b98"
      },
      "outputs": [
        {
          "output_type": "execute_result",
          "data": {
            "text/plain": [
              "(array([ 1.,  3.,  5.,  7.,  9., 11., 13., 15., 17.], dtype=float32),\n",
              " tensor([ 1.,  3.,  5.,  7.,  9., 11., 13., 15., 17.]))"
            ]
          },
          "metadata": {},
          "execution_count": 14
        }
      ],
      "source": [
        "# Tensor to NumPy\n",
        "Ten1 = torch.arange(1.0, 18, 2)\n",
        "array1 = Ten1.numpy()\n",
        "array1, Ten1"
      ]
    },
    {
      "cell_type": "code",
      "execution_count": 15,
      "id": "a1ecef3c",
      "metadata": {
        "colab": {
          "base_uri": "https://localhost:8080/"
        },
        "id": "a1ecef3c",
        "outputId": "360cc4f8-1c34-4443-ea9a-112c09c68636"
      },
      "outputs": [
        {
          "output_type": "execute_result",
          "data": {
            "text/plain": [
              "(tensor([ 2.,  4.,  6.,  8., 10., 12., 14., 16., 18.]),\n",
              " array([ 1.,  3.,  5.,  7.,  9., 11., 13., 15., 17.], dtype=float32))"
            ]
          },
          "metadata": {},
          "execution_count": 15
        }
      ],
      "source": [
        "# Changing tensor doesn't affect numpy array\n",
        "Ten1 = Ten1 + 1\n",
        "Ten1, array1"
      ]
    },
    {
      "cell_type": "markdown",
      "id": "e88915f0",
      "metadata": {
        "id": "e88915f0"
      },
      "source": [
        "## Part 4: Random Seed"
      ]
    },
    {
      "cell_type": "code",
      "execution_count": 16,
      "id": "d7168305",
      "metadata": {
        "colab": {
          "base_uri": "https://localhost:8080/"
        },
        "id": "d7168305",
        "outputId": "3c5fd8e3-e256-4c8e-90ee-61604e4b8c8f"
      },
      "outputs": [
        {
          "output_type": "execute_result",
          "data": {
            "text/plain": [
              "(tensor([[0.4177, 0.8306, 0.7310, 0.0244],\n",
              "         [0.5350, 0.5360, 0.1067, 0.5349]]),\n",
              " tensor([[0.8249, 0.5309, 0.1445, 0.3690],\n",
              "         [0.5079, 0.0775, 0.0374, 0.0921]]),\n",
              " tensor([[False, False, False, False],\n",
              "         [False, False, False, False]]))"
            ]
          },
          "metadata": {},
          "execution_count": 16
        }
      ],
      "source": [
        "import torch\n",
        "\n",
        "# Without seed\n",
        "tensor_a = torch.rand(2, 4)\n",
        "tensor_b = torch.rand(2, 4)\n",
        "tensor_a, tensor_b, tensor_a == tensor_b"
      ]
    },
    {
      "cell_type": "code",
      "execution_count": 17,
      "id": "334c6142",
      "metadata": {
        "colab": {
          "base_uri": "https://localhost:8080/"
        },
        "id": "334c6142",
        "outputId": "0b008626-c238-4790-c882-da4c0ce283bd"
      },
      "outputs": [
        {
          "output_type": "execute_result",
          "data": {
            "text/plain": [
              "(tensor([[0.8823, 0.9150, 0.3829, 0.9593],\n",
              "         [0.3904, 0.6009, 0.2566, 0.7936]]),\n",
              " tensor([[0.8823, 0.9150, 0.3829, 0.9593],\n",
              "         [0.3904, 0.6009, 0.2566, 0.7936]]),\n",
              " tensor([[True, True, True, True],\n",
              "         [True, True, True, True]]))"
            ]
          },
          "metadata": {},
          "execution_count": 17
        }
      ],
      "source": [
        "# With manual seed\n",
        "random_seed = 42\n",
        "torch.manual_seed(random_seed)\n",
        "tensor_a = torch.rand(2, 4)\n",
        "torch.manual_seed(random_seed)\n",
        "tensor_b = torch.rand(2, 4)\n",
        "tensor_a, tensor_b, tensor_a == tensor_b"
      ]
    },
    {
      "cell_type": "markdown",
      "id": "ce8a5c18",
      "metadata": {
        "id": "ce8a5c18"
      },
      "source": [
        "## Part 5: GPU Support in PyTorch"
      ]
    },
    {
      "cell_type": "code",
      "execution_count": 18,
      "id": "f5475526",
      "metadata": {
        "colab": {
          "base_uri": "https://localhost:8080/"
        },
        "id": "f5475526",
        "outputId": "fccdaec4-2cf2-4eef-bf90-21b219091fc7"
      },
      "outputs": [
        {
          "output_type": "execute_result",
          "data": {
            "text/plain": [
              "False"
            ]
          },
          "metadata": {},
          "execution_count": 18
        }
      ],
      "source": [
        "import torch\n",
        "\n",
        "# Check if GPU is available\n",
        "torch.cuda.is_available()"
      ]
    },
    {
      "cell_type": "code",
      "execution_count": 19,
      "id": "82ad0440",
      "metadata": {
        "colab": {
          "base_uri": "https://localhost:8080/"
        },
        "id": "82ad0440",
        "outputId": "1e5f9782-a4ad-404e-cd71-97a02e02c321"
      },
      "outputs": [
        {
          "output_type": "execute_result",
          "data": {
            "text/plain": [
              "device(type='cpu')"
            ]
          },
          "metadata": {},
          "execution_count": 19
        }
      ],
      "source": [
        "# Create tensor on CPU\n",
        "Tensor_on_cpu = torch.tensor([1, 9, 20])\n",
        "Tensor_on_cpu.device"
      ]
    },
    {
      "cell_type": "code",
      "execution_count": 20,
      "id": "d679fe97",
      "metadata": {
        "colab": {
          "base_uri": "https://localhost:8080/",
          "height": 36
        },
        "id": "d679fe97",
        "outputId": "9f52b79d-6ac5-40ad-c0bc-5c83c413028a"
      },
      "outputs": [
        {
          "output_type": "execute_result",
          "data": {
            "text/plain": [
              "'cpu'"
            ],
            "application/vnd.google.colaboratory.intrinsic+json": {
              "type": "string"
            }
          },
          "metadata": {},
          "execution_count": 20
        }
      ],
      "source": [
        "# Device agnostic code\n",
        "device = \"cuda\" if torch.cuda.is_available() else \"cpu\"\n",
        "device"
      ]
    },
    {
      "cell_type": "code",
      "execution_count": 21,
      "id": "70ac791d",
      "metadata": {
        "colab": {
          "base_uri": "https://localhost:8080/"
        },
        "id": "70ac791d",
        "outputId": "b33a2144-cb97-4d16-a9d7-520551732c61"
      },
      "outputs": [
        {
          "output_type": "execute_result",
          "data": {
            "text/plain": [
              "device(type='cpu')"
            ]
          },
          "metadata": {},
          "execution_count": 21
        }
      ],
      "source": [
        "# Move tensor to GPU\n",
        "Tensor_on_gpu = Tensor_on_cpu.to(device)\n",
        "Tensor_on_gpu.device"
      ]
    },
    {
      "cell_type": "code",
      "execution_count": 22,
      "id": "b7e60ac3",
      "metadata": {
        "colab": {
          "base_uri": "https://localhost:8080/"
        },
        "id": "b7e60ac3",
        "outputId": "b6e97eb5-40f5-46e9-fe3d-447b7bdea2d0"
      },
      "outputs": [
        {
          "output_type": "execute_result",
          "data": {
            "text/plain": [
              "array([ 1,  9, 20])"
            ]
          },
          "metadata": {},
          "execution_count": 22
        }
      ],
      "source": [
        "# Convert back to CPU before converting to numpy\n",
        "tensor_back_on_cpu = Tensor_on_gpu.cpu()\n",
        "array_from_tensor = tensor_back_on_cpu.numpy()\n",
        "array_from_tensor"
      ]
    },
    {
      "cell_type": "markdown",
      "id": "8111aa46",
      "metadata": {
        "id": "8111aa46"
      },
      "source": [
        "## Part 6: Tensor Reshaping and Stacking"
      ]
    },
    {
      "cell_type": "code",
      "execution_count": 23,
      "id": "1ada05b9",
      "metadata": {
        "colab": {
          "base_uri": "https://localhost:8080/"
        },
        "id": "1ada05b9",
        "outputId": "e4a43774-8735-4e77-9aaa-7dcea812cce0"
      },
      "outputs": [
        {
          "output_type": "execute_result",
          "data": {
            "text/plain": [
              "tensor([[1, 2, 3],\n",
              "        [4, 5, 6],\n",
              "        [7, 8, 9]])"
            ]
          },
          "metadata": {},
          "execution_count": 23
        }
      ],
      "source": [
        "import torch\n",
        "\n",
        "# Reshape tensor\n",
        "a = torch.arange(1, 10)\n",
        "a_reshaped = a.reshape(3, 3)\n",
        "a_reshaped"
      ]
    },
    {
      "cell_type": "code",
      "execution_count": 24,
      "id": "85ae6eeb",
      "metadata": {
        "colab": {
          "base_uri": "https://localhost:8080/"
        },
        "id": "85ae6eeb",
        "outputId": "e8cd8926-0245-407d-9889-44460479996a"
      },
      "outputs": [
        {
          "output_type": "execute_result",
          "data": {
            "text/plain": [
              "tensor([[1, 2, 3],\n",
              "        [4, 5, 6],\n",
              "        [7, 8, 9]])"
            ]
          },
          "metadata": {},
          "execution_count": 24
        }
      ],
      "source": [
        "# View tensor with same shape\n",
        "b = a.view(3, 3)\n",
        "b"
      ]
    },
    {
      "cell_type": "code",
      "execution_count": 25,
      "id": "d1a35c6b",
      "metadata": {
        "colab": {
          "base_uri": "https://localhost:8080/"
        },
        "id": "d1a35c6b",
        "outputId": "a840c268-8ebb-4f0c-c6e8-4725c4eb1318"
      },
      "outputs": [
        {
          "output_type": "execute_result",
          "data": {
            "text/plain": [
              "(tensor([1, 2, 3]),\n",
              " tensor([[1],\n",
              "         [2],\n",
              "         [3]]))"
            ]
          },
          "metadata": {},
          "execution_count": 25
        }
      ],
      "source": [
        "# Squeeze and Unsqueeze\n",
        "c = torch.tensor([[[1], [2], [3]]])\n",
        "c_squeezed = c.squeeze()\n",
        "c_unsqueezed = c_squeezed.unsqueeze(1)\n",
        "c_squeezed, c_unsqueezed"
      ]
    },
    {
      "cell_type": "code",
      "execution_count": 26,
      "id": "978d6ce6",
      "metadata": {
        "colab": {
          "base_uri": "https://localhost:8080/"
        },
        "id": "978d6ce6",
        "outputId": "1b385f33-34a3-4a83-f60c-192ce12e88ba"
      },
      "outputs": [
        {
          "output_type": "execute_result",
          "data": {
            "text/plain": [
              "tensor([[1, 2, 3],\n",
              "        [4, 5, 6]])"
            ]
          },
          "metadata": {},
          "execution_count": 26
        }
      ],
      "source": [
        "# Stacking tensors\n",
        "x = torch.tensor([1, 2, 3])\n",
        "y = torch.tensor([4, 5, 6])\n",
        "stacked = torch.stack((x, y))\n",
        "stacked"
      ]
    },
    {
      "cell_type": "code",
      "execution_count": 27,
      "id": "eaa71c8e",
      "metadata": {
        "colab": {
          "base_uri": "https://localhost:8080/"
        },
        "id": "eaa71c8e",
        "outputId": "7d06f8b8-26a6-4480-d60c-ea5541f1b9b4"
      },
      "outputs": [
        {
          "output_type": "execute_result",
          "data": {
            "text/plain": [
              "(tensor([[1, 2, 3],\n",
              "         [4, 5, 6]]),\n",
              " tensor([[1, 4],\n",
              "         [2, 5],\n",
              "         [3, 6]]))"
            ]
          },
          "metadata": {},
          "execution_count": 27
        }
      ],
      "source": [
        "# Concatenating tensors\n",
        "cat_axis0 = torch.cat((x.unsqueeze(0), y.unsqueeze(0)), dim=0)\n",
        "cat_axis1 = torch.cat((x.unsqueeze(1), y.unsqueeze(1)), dim=1)\n",
        "cat_axis0, cat_axis1"
      ]
    }
  ],
  "metadata": {
    "colab": {
      "provenance": []
    },
    "language_info": {
      "name": "python"
    },
    "kernelspec": {
      "name": "python3",
      "display_name": "Python 3"
    }
  },
  "nbformat": 4,
  "nbformat_minor": 5
}